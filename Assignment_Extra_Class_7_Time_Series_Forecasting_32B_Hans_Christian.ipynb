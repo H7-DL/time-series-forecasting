{
  "nbformat": 4,
  "nbformat_minor": 0,
  "metadata": {
    "colab": {
      "provenance": []
    },
    "kernelspec": {
      "name": "python3",
      "display_name": "Python 3"
    },
    "language_info": {
      "name": "python"
    }
  },
  "cells": [
    {
      "cell_type": "code",
      "execution_count": 1,
      "metadata": {
        "colab": {
          "base_uri": "https://localhost:8080/",
          "height": 1000
        },
        "id": "Nb68j44Vhl_3",
        "outputId": "09a8c51c-4bad-4714-f3ae-ad6e2a3d17f5"
      },
      "outputs": [
        {
          "output_type": "stream",
          "name": "stdout",
          "text": [
            "<class 'pandas.core.frame.DataFrame'>\n",
            "RangeIndex: 8000 entries, 0 to 7999\n",
            "Data columns (total 21 columns):\n",
            " #   Column         Non-Null Count  Dtype  \n",
            "---  ------         --------------  -----  \n",
            " 0   Row ID         8000 non-null   int64  \n",
            " 1   Order ID       8000 non-null   object \n",
            " 2   Order Date     8000 non-null   object \n",
            " 3   Ship Date      8000 non-null   object \n",
            " 4   Ship Mode      8000 non-null   object \n",
            " 5   Customer ID    8000 non-null   object \n",
            " 6   Customer Name  8000 non-null   object \n",
            " 7   Segment        8000 non-null   object \n",
            " 8   Country        8000 non-null   object \n",
            " 9   City           8000 non-null   object \n",
            " 10  State          8000 non-null   object \n",
            " 11  Postal Code    8000 non-null   int64  \n",
            " 12  Region         8000 non-null   object \n",
            " 13  Product ID     8000 non-null   object \n",
            " 14  Category       8000 non-null   object \n",
            " 15  Sub-Category   8000 non-null   object \n",
            " 16  Product Name   8000 non-null   object \n",
            " 17  Sales          8000 non-null   float64\n",
            " 18  Quantity       8000 non-null   int64  \n",
            " 19  Discount       8000 non-null   float64\n",
            " 20  Profit         8000 non-null   float64\n",
            "dtypes: float64(3), int64(3), object(15)\n",
            "memory usage: 1.3+ MB\n"
          ]
        },
        {
          "output_type": "execute_result",
          "data": {
            "text/plain": [
              "   Row ID        Order ID  Order Date   Ship Date       Ship Mode Customer ID  \\\n",
              "0       1  CA-2016-152156  2016-11-08  2016-11-11    Second Class    CG-12520   \n",
              "1       2  CA-2016-152156  2016-11-08  2016-11-11    Second Class    CG-12520   \n",
              "2       3  CA-2016-138688  2016-06-12  2016-06-16    Second Class    DV-13045   \n",
              "3       4  US-2015-108966  2015-10-11  2015-10-18  Standard Class    SO-20335   \n",
              "4       5  US-2015-108966  2015-10-11  2015-10-18  Standard Class    SO-20335   \n",
              "\n",
              "     Customer Name    Segment        Country             City  ...  \\\n",
              "0      Claire Gute   Consumer  United States        Henderson  ...   \n",
              "1      Claire Gute   Consumer  United States        Henderson  ...   \n",
              "2  Darrin Van Huff  Corporate  United States      Los Angeles  ...   \n",
              "3   Sean O'Donnell   Consumer  United States  Fort Lauderdale  ...   \n",
              "4   Sean O'Donnell   Consumer  United States  Fort Lauderdale  ...   \n",
              "\n",
              "  Postal Code  Region       Product ID         Category Sub-Category  \\\n",
              "0       42420   South  FUR-BO-10001798        Furniture    Bookcases   \n",
              "1       42420   South  FUR-CH-10000454        Furniture       Chairs   \n",
              "2       90036    West  OFF-LA-10000240  Office Supplies       Labels   \n",
              "3       33311   South  FUR-TA-10000577        Furniture       Tables   \n",
              "4       33311   South  OFF-ST-10000760  Office Supplies      Storage   \n",
              "\n",
              "                                        Product Name     Sales  Quantity  \\\n",
              "0                  Bush Somerset Collection Bookcase  261.9600         2   \n",
              "1  Hon Deluxe Fabric Upholstered Stacking Chairs,...  731.9400         3   \n",
              "2  Self-Adhesive Address Labels for Typewriters b...   14.6200         2   \n",
              "3      Bretford CR4500 Series Slim Rectangular Table  957.5775         5   \n",
              "4                     Eldon Fold 'N Roll Cart System   22.3680         2   \n",
              "\n",
              "   Discount    Profit  \n",
              "0      0.00   41.9136  \n",
              "1      0.00  219.5820  \n",
              "2      0.00    6.8714  \n",
              "3      0.45 -383.0310  \n",
              "4      0.20    2.5164  \n",
              "\n",
              "[5 rows x 21 columns]"
            ],
            "text/html": [
              "\n",
              "  <div id=\"df-e123a06a-d298-43ab-8d57-3f09c86fce22\" class=\"colab-df-container\">\n",
              "    <div>\n",
              "<style scoped>\n",
              "    .dataframe tbody tr th:only-of-type {\n",
              "        vertical-align: middle;\n",
              "    }\n",
              "\n",
              "    .dataframe tbody tr th {\n",
              "        vertical-align: top;\n",
              "    }\n",
              "\n",
              "    .dataframe thead th {\n",
              "        text-align: right;\n",
              "    }\n",
              "</style>\n",
              "<table border=\"1\" class=\"dataframe\">\n",
              "  <thead>\n",
              "    <tr style=\"text-align: right;\">\n",
              "      <th></th>\n",
              "      <th>Row ID</th>\n",
              "      <th>Order ID</th>\n",
              "      <th>Order Date</th>\n",
              "      <th>Ship Date</th>\n",
              "      <th>Ship Mode</th>\n",
              "      <th>Customer ID</th>\n",
              "      <th>Customer Name</th>\n",
              "      <th>Segment</th>\n",
              "      <th>Country</th>\n",
              "      <th>City</th>\n",
              "      <th>...</th>\n",
              "      <th>Postal Code</th>\n",
              "      <th>Region</th>\n",
              "      <th>Product ID</th>\n",
              "      <th>Category</th>\n",
              "      <th>Sub-Category</th>\n",
              "      <th>Product Name</th>\n",
              "      <th>Sales</th>\n",
              "      <th>Quantity</th>\n",
              "      <th>Discount</th>\n",
              "      <th>Profit</th>\n",
              "    </tr>\n",
              "  </thead>\n",
              "  <tbody>\n",
              "    <tr>\n",
              "      <th>0</th>\n",
              "      <td>1</td>\n",
              "      <td>CA-2016-152156</td>\n",
              "      <td>2016-11-08</td>\n",
              "      <td>2016-11-11</td>\n",
              "      <td>Second Class</td>\n",
              "      <td>CG-12520</td>\n",
              "      <td>Claire Gute</td>\n",
              "      <td>Consumer</td>\n",
              "      <td>United States</td>\n",
              "      <td>Henderson</td>\n",
              "      <td>...</td>\n",
              "      <td>42420</td>\n",
              "      <td>South</td>\n",
              "      <td>FUR-BO-10001798</td>\n",
              "      <td>Furniture</td>\n",
              "      <td>Bookcases</td>\n",
              "      <td>Bush Somerset Collection Bookcase</td>\n",
              "      <td>261.9600</td>\n",
              "      <td>2</td>\n",
              "      <td>0.00</td>\n",
              "      <td>41.9136</td>\n",
              "    </tr>\n",
              "    <tr>\n",
              "      <th>1</th>\n",
              "      <td>2</td>\n",
              "      <td>CA-2016-152156</td>\n",
              "      <td>2016-11-08</td>\n",
              "      <td>2016-11-11</td>\n",
              "      <td>Second Class</td>\n",
              "      <td>CG-12520</td>\n",
              "      <td>Claire Gute</td>\n",
              "      <td>Consumer</td>\n",
              "      <td>United States</td>\n",
              "      <td>Henderson</td>\n",
              "      <td>...</td>\n",
              "      <td>42420</td>\n",
              "      <td>South</td>\n",
              "      <td>FUR-CH-10000454</td>\n",
              "      <td>Furniture</td>\n",
              "      <td>Chairs</td>\n",
              "      <td>Hon Deluxe Fabric Upholstered Stacking Chairs,...</td>\n",
              "      <td>731.9400</td>\n",
              "      <td>3</td>\n",
              "      <td>0.00</td>\n",
              "      <td>219.5820</td>\n",
              "    </tr>\n",
              "    <tr>\n",
              "      <th>2</th>\n",
              "      <td>3</td>\n",
              "      <td>CA-2016-138688</td>\n",
              "      <td>2016-06-12</td>\n",
              "      <td>2016-06-16</td>\n",
              "      <td>Second Class</td>\n",
              "      <td>DV-13045</td>\n",
              "      <td>Darrin Van Huff</td>\n",
              "      <td>Corporate</td>\n",
              "      <td>United States</td>\n",
              "      <td>Los Angeles</td>\n",
              "      <td>...</td>\n",
              "      <td>90036</td>\n",
              "      <td>West</td>\n",
              "      <td>OFF-LA-10000240</td>\n",
              "      <td>Office Supplies</td>\n",
              "      <td>Labels</td>\n",
              "      <td>Self-Adhesive Address Labels for Typewriters b...</td>\n",
              "      <td>14.6200</td>\n",
              "      <td>2</td>\n",
              "      <td>0.00</td>\n",
              "      <td>6.8714</td>\n",
              "    </tr>\n",
              "    <tr>\n",
              "      <th>3</th>\n",
              "      <td>4</td>\n",
              "      <td>US-2015-108966</td>\n",
              "      <td>2015-10-11</td>\n",
              "      <td>2015-10-18</td>\n",
              "      <td>Standard Class</td>\n",
              "      <td>SO-20335</td>\n",
              "      <td>Sean O'Donnell</td>\n",
              "      <td>Consumer</td>\n",
              "      <td>United States</td>\n",
              "      <td>Fort Lauderdale</td>\n",
              "      <td>...</td>\n",
              "      <td>33311</td>\n",
              "      <td>South</td>\n",
              "      <td>FUR-TA-10000577</td>\n",
              "      <td>Furniture</td>\n",
              "      <td>Tables</td>\n",
              "      <td>Bretford CR4500 Series Slim Rectangular Table</td>\n",
              "      <td>957.5775</td>\n",
              "      <td>5</td>\n",
              "      <td>0.45</td>\n",
              "      <td>-383.0310</td>\n",
              "    </tr>\n",
              "    <tr>\n",
              "      <th>4</th>\n",
              "      <td>5</td>\n",
              "      <td>US-2015-108966</td>\n",
              "      <td>2015-10-11</td>\n",
              "      <td>2015-10-18</td>\n",
              "      <td>Standard Class</td>\n",
              "      <td>SO-20335</td>\n",
              "      <td>Sean O'Donnell</td>\n",
              "      <td>Consumer</td>\n",
              "      <td>United States</td>\n",
              "      <td>Fort Lauderdale</td>\n",
              "      <td>...</td>\n",
              "      <td>33311</td>\n",
              "      <td>South</td>\n",
              "      <td>OFF-ST-10000760</td>\n",
              "      <td>Office Supplies</td>\n",
              "      <td>Storage</td>\n",
              "      <td>Eldon Fold 'N Roll Cart System</td>\n",
              "      <td>22.3680</td>\n",
              "      <td>2</td>\n",
              "      <td>0.20</td>\n",
              "      <td>2.5164</td>\n",
              "    </tr>\n",
              "  </tbody>\n",
              "</table>\n",
              "<p>5 rows × 21 columns</p>\n",
              "</div>\n",
              "    <div class=\"colab-df-buttons\">\n",
              "\n",
              "  <div class=\"colab-df-container\">\n",
              "    <button class=\"colab-df-convert\" onclick=\"convertToInteractive('df-e123a06a-d298-43ab-8d57-3f09c86fce22')\"\n",
              "            title=\"Convert this dataframe to an interactive table.\"\n",
              "            style=\"display:none;\">\n",
              "\n",
              "  <svg xmlns=\"http://www.w3.org/2000/svg\" height=\"24px\" viewBox=\"0 -960 960 960\">\n",
              "    <path d=\"M120-120v-720h720v720H120Zm60-500h600v-160H180v160Zm220 220h160v-160H400v160Zm0 220h160v-160H400v160ZM180-400h160v-160H180v160Zm440 0h160v-160H620v160ZM180-180h160v-160H180v160Zm440 0h160v-160H620v160Z\"/>\n",
              "  </svg>\n",
              "    </button>\n",
              "\n",
              "  <style>\n",
              "    .colab-df-container {\n",
              "      display:flex;\n",
              "      gap: 12px;\n",
              "    }\n",
              "\n",
              "    .colab-df-convert {\n",
              "      background-color: #E8F0FE;\n",
              "      border: none;\n",
              "      border-radius: 50%;\n",
              "      cursor: pointer;\n",
              "      display: none;\n",
              "      fill: #1967D2;\n",
              "      height: 32px;\n",
              "      padding: 0 0 0 0;\n",
              "      width: 32px;\n",
              "    }\n",
              "\n",
              "    .colab-df-convert:hover {\n",
              "      background-color: #E2EBFA;\n",
              "      box-shadow: 0px 1px 2px rgba(60, 64, 67, 0.3), 0px 1px 3px 1px rgba(60, 64, 67, 0.15);\n",
              "      fill: #174EA6;\n",
              "    }\n",
              "\n",
              "    .colab-df-buttons div {\n",
              "      margin-bottom: 4px;\n",
              "    }\n",
              "\n",
              "    [theme=dark] .colab-df-convert {\n",
              "      background-color: #3B4455;\n",
              "      fill: #D2E3FC;\n",
              "    }\n",
              "\n",
              "    [theme=dark] .colab-df-convert:hover {\n",
              "      background-color: #434B5C;\n",
              "      box-shadow: 0px 1px 3px 1px rgba(0, 0, 0, 0.15);\n",
              "      filter: drop-shadow(0px 1px 2px rgba(0, 0, 0, 0.3));\n",
              "      fill: #FFFFFF;\n",
              "    }\n",
              "  </style>\n",
              "\n",
              "    <script>\n",
              "      const buttonEl =\n",
              "        document.querySelector('#df-e123a06a-d298-43ab-8d57-3f09c86fce22 button.colab-df-convert');\n",
              "      buttonEl.style.display =\n",
              "        google.colab.kernel.accessAllowed ? 'block' : 'none';\n",
              "\n",
              "      async function convertToInteractive(key) {\n",
              "        const element = document.querySelector('#df-e123a06a-d298-43ab-8d57-3f09c86fce22');\n",
              "        const dataTable =\n",
              "          await google.colab.kernel.invokeFunction('convertToInteractive',\n",
              "                                                    [key], {});\n",
              "        if (!dataTable) return;\n",
              "\n",
              "        const docLinkHtml = 'Like what you see? Visit the ' +\n",
              "          '<a target=\"_blank\" href=https://colab.research.google.com/notebooks/data_table.ipynb>data table notebook</a>'\n",
              "          + ' to learn more about interactive tables.';\n",
              "        element.innerHTML = '';\n",
              "        dataTable['output_type'] = 'display_data';\n",
              "        await google.colab.output.renderOutput(dataTable, element);\n",
              "        const docLink = document.createElement('div');\n",
              "        docLink.innerHTML = docLinkHtml;\n",
              "        element.appendChild(docLink);\n",
              "      }\n",
              "    </script>\n",
              "  </div>\n",
              "\n",
              "\n",
              "    <div id=\"df-d8246938-7826-4871-ba83-9221e111d0ab\">\n",
              "      <button class=\"colab-df-quickchart\" onclick=\"quickchart('df-d8246938-7826-4871-ba83-9221e111d0ab')\"\n",
              "                title=\"Suggest charts\"\n",
              "                style=\"display:none;\">\n",
              "\n",
              "<svg xmlns=\"http://www.w3.org/2000/svg\" height=\"24px\"viewBox=\"0 0 24 24\"\n",
              "     width=\"24px\">\n",
              "    <g>\n",
              "        <path d=\"M19 3H5c-1.1 0-2 .9-2 2v14c0 1.1.9 2 2 2h14c1.1 0 2-.9 2-2V5c0-1.1-.9-2-2-2zM9 17H7v-7h2v7zm4 0h-2V7h2v10zm4 0h-2v-4h2v4z\"/>\n",
              "    </g>\n",
              "</svg>\n",
              "      </button>\n",
              "\n",
              "<style>\n",
              "  .colab-df-quickchart {\n",
              "      --bg-color: #E8F0FE;\n",
              "      --fill-color: #1967D2;\n",
              "      --hover-bg-color: #E2EBFA;\n",
              "      --hover-fill-color: #174EA6;\n",
              "      --disabled-fill-color: #AAA;\n",
              "      --disabled-bg-color: #DDD;\n",
              "  }\n",
              "\n",
              "  [theme=dark] .colab-df-quickchart {\n",
              "      --bg-color: #3B4455;\n",
              "      --fill-color: #D2E3FC;\n",
              "      --hover-bg-color: #434B5C;\n",
              "      --hover-fill-color: #FFFFFF;\n",
              "      --disabled-bg-color: #3B4455;\n",
              "      --disabled-fill-color: #666;\n",
              "  }\n",
              "\n",
              "  .colab-df-quickchart {\n",
              "    background-color: var(--bg-color);\n",
              "    border: none;\n",
              "    border-radius: 50%;\n",
              "    cursor: pointer;\n",
              "    display: none;\n",
              "    fill: var(--fill-color);\n",
              "    height: 32px;\n",
              "    padding: 0;\n",
              "    width: 32px;\n",
              "  }\n",
              "\n",
              "  .colab-df-quickchart:hover {\n",
              "    background-color: var(--hover-bg-color);\n",
              "    box-shadow: 0 1px 2px rgba(60, 64, 67, 0.3), 0 1px 3px 1px rgba(60, 64, 67, 0.15);\n",
              "    fill: var(--button-hover-fill-color);\n",
              "  }\n",
              "\n",
              "  .colab-df-quickchart-complete:disabled,\n",
              "  .colab-df-quickchart-complete:disabled:hover {\n",
              "    background-color: var(--disabled-bg-color);\n",
              "    fill: var(--disabled-fill-color);\n",
              "    box-shadow: none;\n",
              "  }\n",
              "\n",
              "  .colab-df-spinner {\n",
              "    border: 2px solid var(--fill-color);\n",
              "    border-color: transparent;\n",
              "    border-bottom-color: var(--fill-color);\n",
              "    animation:\n",
              "      spin 1s steps(1) infinite;\n",
              "  }\n",
              "\n",
              "  @keyframes spin {\n",
              "    0% {\n",
              "      border-color: transparent;\n",
              "      border-bottom-color: var(--fill-color);\n",
              "      border-left-color: var(--fill-color);\n",
              "    }\n",
              "    20% {\n",
              "      border-color: transparent;\n",
              "      border-left-color: var(--fill-color);\n",
              "      border-top-color: var(--fill-color);\n",
              "    }\n",
              "    30% {\n",
              "      border-color: transparent;\n",
              "      border-left-color: var(--fill-color);\n",
              "      border-top-color: var(--fill-color);\n",
              "      border-right-color: var(--fill-color);\n",
              "    }\n",
              "    40% {\n",
              "      border-color: transparent;\n",
              "      border-right-color: var(--fill-color);\n",
              "      border-top-color: var(--fill-color);\n",
              "    }\n",
              "    60% {\n",
              "      border-color: transparent;\n",
              "      border-right-color: var(--fill-color);\n",
              "    }\n",
              "    80% {\n",
              "      border-color: transparent;\n",
              "      border-right-color: var(--fill-color);\n",
              "      border-bottom-color: var(--fill-color);\n",
              "    }\n",
              "    90% {\n",
              "      border-color: transparent;\n",
              "      border-bottom-color: var(--fill-color);\n",
              "    }\n",
              "  }\n",
              "</style>\n",
              "\n",
              "      <script>\n",
              "        async function quickchart(key) {\n",
              "          const quickchartButtonEl =\n",
              "            document.querySelector('#' + key + ' button');\n",
              "          quickchartButtonEl.disabled = true;  // To prevent multiple clicks.\n",
              "          quickchartButtonEl.classList.add('colab-df-spinner');\n",
              "          try {\n",
              "            const charts = await google.colab.kernel.invokeFunction(\n",
              "                'suggestCharts', [key], {});\n",
              "          } catch (error) {\n",
              "            console.error('Error during call to suggestCharts:', error);\n",
              "          }\n",
              "          quickchartButtonEl.classList.remove('colab-df-spinner');\n",
              "          quickchartButtonEl.classList.add('colab-df-quickchart-complete');\n",
              "        }\n",
              "        (() => {\n",
              "          let quickchartButtonEl =\n",
              "            document.querySelector('#df-d8246938-7826-4871-ba83-9221e111d0ab button');\n",
              "          quickchartButtonEl.style.display =\n",
              "            google.colab.kernel.accessAllowed ? 'block' : 'none';\n",
              "        })();\n",
              "      </script>\n",
              "    </div>\n",
              "\n",
              "    </div>\n",
              "  </div>\n"
            ],
            "application/vnd.google.colaboratory.intrinsic+json": {
              "type": "dataframe",
              "variable_name": "df"
            }
          },
          "metadata": {},
          "execution_count": 1
        }
      ],
      "source": [
        "# Import library\n",
        "import pandas as pd\n",
        "\n",
        "# Load data\n",
        "df = pd.read_csv('superstore_train.csv', encoding='latin1')\n",
        "\n",
        "# Cek struktur awal\n",
        "df.info()\n",
        "df.head()"
      ]
    },
    {
      "cell_type": "markdown",
      "source": [
        "# Persiapan dan Pembersihan Data"
      ],
      "metadata": {
        "id": "D19eXMmAiBwM"
      }
    },
    {
      "cell_type": "code",
      "source": [
        "# Konversi kolom tanggal ke datetime\n",
        "df['Order Date'] = pd.to_datetime(df['Order Date'], errors='coerce')\n",
        "df['Ship Date'] = pd.to_datetime(df['Ship Date'], errors='coerce')\n",
        "\n",
        "# Fokus pada data tahun 2017 (karena 2019 tidak tersedia)\n",
        "df_2017 = df[df['Order Date'].dt.year == 2017].copy()\n",
        "\n",
        "# Tambahkan kolom GMV sebagai total penjualan (Sales sudah termasuk diskon)\n",
        "df_2017['GMV'] = df_2017['Sales']"
      ],
      "metadata": {
        "id": "BDjR234-hyXq"
      },
      "execution_count": 2,
      "outputs": []
    },
    {
      "cell_type": "markdown",
      "source": [
        "# Ringkasan Penjualan Tahun 2017"
      ],
      "metadata": {
        "id": "ZoxSj-Lrh2o6"
      }
    },
    {
      "cell_type": "code",
      "source": [
        "# Hitung metrik utama\n",
        "total_revenue = df_2017['GMV'].sum()\n",
        "total_orders = df_2017['Order ID'].nunique()\n",
        "total_quantity = df_2017['Quantity'].sum()\n",
        "\n",
        "# Rata-rata barang dan spending per order\n",
        "avg_items_per_order = total_quantity / total_orders\n",
        "avg_spending_per_order = total_revenue / total_orders\n",
        "\n",
        "# Cetak hasil\n",
        "print(f\"Total Revenue: ${total_revenue:,.2f}\")\n",
        "print(f\"Total Orders: {total_orders}\")\n",
        "print(f\"Total Quantity Sold: {total_quantity}\")\n",
        "print(f\"Avg Items per Order: {avg_items_per_order:.2f}\")\n",
        "print(f\"Avg Spending per Order: ${avg_spending_per_order:.2f}\")"
      ],
      "metadata": {
        "colab": {
          "base_uri": "https://localhost:8080/"
        },
        "id": "L8fhmcorh00B",
        "outputId": "d002ba62-f64b-4e95-d5cb-26f52b98cbcd"
      },
      "execution_count": 4,
      "outputs": [
        {
          "output_type": "stream",
          "name": "stdout",
          "text": [
            "Total Revenue: $586,394.42\n",
            "Total Orders: 1341\n",
            "Total Quantity Sold: 10085\n",
            "Avg Items per Order: 7.52\n",
            "Avg Spending per Order: $437.28\n"
          ]
        }
      ]
    },
    {
      "cell_type": "markdown",
      "source": [
        "# GMV Harian, Mingguan, dan Bulanan"
      ],
      "metadata": {
        "id": "P15DhoBOiJwK"
      }
    },
    {
      "cell_type": "code",
      "source": [
        "# Tambahkan kolom waktu\n",
        "df_2017['Order Day'] = df_2017['Order Date'].dt.date\n",
        "df_2017['Order Week'] = df_2017['Order Date'].dt.to_period('W').apply(lambda r: r.start_time)\n",
        "df_2017['Order Month'] = df_2017['Order Date'].dt.to_period('M').apply(lambda r: r.start_time)\n",
        "\n",
        "# Agregasi GMV\n",
        "daily = df_2017.groupby('Order Day')['GMV'].sum()\n",
        "weekly = df_2017.groupby('Order Week')['GMV'].sum()\n",
        "monthly = df_2017.groupby('Order Month')['GMV'].sum()\n",
        "\n",
        "# Tampilkan 5 data pertama\n",
        "print(daily.head())\n",
        "print(weekly.head())\n",
        "print(monthly.head())"
      ],
      "metadata": {
        "colab": {
          "base_uri": "https://localhost:8080/"
        },
        "id": "KfutiTSLiGSD",
        "outputId": "e0aec07c-9deb-4068-c7ea-7ffcb68c58a7"
      },
      "execution_count": 5,
      "outputs": [
        {
          "output_type": "stream",
          "name": "stdout",
          "text": [
            "Order Day\n",
            "2017-01-01     526.926\n",
            "2017-01-02     740.214\n",
            "2017-01-03      38.880\n",
            "2017-01-06      33.740\n",
            "2017-01-07    3395.590\n",
            "Name: GMV, dtype: float64\n",
            "Order Week\n",
            "2016-12-26      526.926\n",
            "2017-01-02     5101.404\n",
            "2017-01-09     7818.979\n",
            "2017-01-16    13494.569\n",
            "2017-01-23     1901.020\n",
            "Name: GMV, dtype: float64\n",
            "Order Month\n",
            "2017-01-01    29873.8980\n",
            "2017-02-01    16258.3440\n",
            "2017-03-01    35966.1898\n",
            "2017-04-01    31611.7931\n",
            "2017-05-01    32956.1588\n",
            "Name: GMV, dtype: float64\n"
          ]
        }
      ]
    },
    {
      "cell_type": "markdown",
      "source": [
        "# Top Produk Revenue dan Bundling"
      ],
      "metadata": {
        "id": "7x3QjeuIiPFO"
      }
    },
    {
      "cell_type": "code",
      "source": [
        "# Ambil 3 bulan terakhir (Oktober–Desember)\n",
        "df_q4 = df_2017[df_2017['Order Date'].dt.month.isin([10, 11, 12])]\n",
        "\n",
        "# Top 10 produk revenue tertinggi\n",
        "top_products = df_q4.groupby('Product Name')['GMV'].sum().sort_values(ascending=False).head(10)\n",
        "print(top_products)\n",
        "\n",
        "# Bundling (produk sering dibeli bersama dalam 1 order)\n",
        "from itertools import combinations\n",
        "from collections import Counter\n",
        "\n",
        "orders = df_q4.groupby('Order ID')['Product Name'].apply(list)\n",
        "multi_item_orders = orders[orders.apply(lambda x: len(x) > 1)]\n",
        "\n",
        "bundle_counter = Counter()\n",
        "for order in multi_item_orders:\n",
        "    for pair in combinations(set(order), 2):\n",
        "        bundle_counter[pair] += 1\n",
        "\n",
        "top_bundles = bundle_counter.most_common(10)\n",
        "print(top_bundles)"
      ],
      "metadata": {
        "colab": {
          "base_uri": "https://localhost:8080/"
        },
        "id": "9sPKB-yhiQMW",
        "outputId": "9df2952d-45c9-4de3-8431-df1e4f921570"
      },
      "execution_count": 6,
      "outputs": [
        {
          "output_type": "stream",
          "name": "stdout",
          "text": [
            "Product Name\n",
            "Canon imageCLASS 2200 Advanced Copier               21699.938\n",
            "Cubify CubeX 3D Printer Triple Head Print            7999.980\n",
            "3D Systems Cube Printer, 2nd Generation, Magenta     5199.960\n",
            "Adjustable Depth Letter/Legal Cart                   4028.412\n",
            "Hewlett Packard LaserJet 3310 Copier                 2879.952\n",
            "Tennsco Double-Tier Lockers                          2835.252\n",
            "Hon 94000 Series Round Tables                        2665.620\n",
            "Hoover Shoulder Vac Commercial Portable Vacuum       2504.740\n",
            "Hon GuestStacker Chair                               2493.370\n",
            "ClearOne CHATAttach 160 -Â speaker phone             2479.960\n",
            "Name: GMV, dtype: float64\n",
            "[(('KI Adjustable-Height Table', 'Staples'), 2), (('#10- 4 1/8\" x 9 1/2\" Security-Tint Envelopes', 'SANFORD Liquid Accent Tank-Style Highlighters'), 1), (('#10- 4 1/8\" x 9 1/2\" Security-Tint Envelopes', 'Dax Clear Box Frame'), 1), (('SANFORD Liquid Accent Tank-Style Highlighters', 'Dax Clear Box Frame'), 1), (('DataProducts Ampli Magnifier Task Lamp, Black,', 'Plantronics Calisto P620-M USB Wireless Speakerphone System'), 1), (('Dexim XPower Skin Super-Thin Power Case for iPhone 5 - Black', 'Clear Mylar Reinforcing Strips'), 1), (('Dexim XPower Skin Super-Thin Power Case for iPhone 5 - Black', 'Xerox 1895'), 1), (('Clear Mylar Reinforcing Strips', 'Xerox 1895'), 1), (('Xerox 1972', 'Recycled Eldon Regeneration Jumbo File'), 1), (('Xerox 1938', 'Plantronics S12 Corded Telephone Headset System'), 1)]\n"
          ]
        }
      ]
    },
    {
      "cell_type": "markdown",
      "source": [
        "# Analisis Kota Teratas"
      ],
      "metadata": {
        "id": "nTqmgDB7idH6"
      }
    },
    {
      "cell_type": "code",
      "source": [
        "city = df_2017.groupby('City').agg(\n",
        "    total_orders=('Order ID', 'nunique'),\n",
        "    total_gmv=('GMV', 'sum')\n",
        ")\n",
        "city['avg_spending'] = city['total_gmv'] / city['total_orders']\n",
        "\n",
        "# Top 5 kota berdasarkan kriteria berbeda\n",
        "print(\"Top Kota by Order:\")\n",
        "print(city.sort_values('total_orders', ascending=False).head())\n",
        "\n",
        "print(\"Top Kota by Total GMV:\")\n",
        "print(city.sort_values('total_gmv', ascending=False).head())\n",
        "\n",
        "print(\"Top Kota by Avg Spending:\")\n",
        "print(city.sort_values('avg_spending', ascending=False).head())"
      ],
      "metadata": {
        "id": "cerojFsUib20"
      },
      "execution_count": null,
      "outputs": []
    },
    {
      "cell_type": "markdown",
      "source": [
        "# Analisis Tren Bulanan"
      ],
      "metadata": {
        "id": "DGiEwdbZig3T"
      }
    },
    {
      "cell_type": "code",
      "source": [
        "import matplotlib.pyplot as plt\n",
        "\n",
        "monthly_gmv = df_2017.groupby(df_2017['Order Date'].dt.to_period('M'))['GMV'].sum()\n",
        "monthly_gmv.index = monthly_gmv.index.to_timestamp()\n",
        "\n",
        "plt.figure(figsize=(10,5))\n",
        "plt.plot(monthly_gmv, marker='o')\n",
        "plt.title('Monthly GMV - 2017')\n",
        "plt.xlabel('Month')\n",
        "plt.ylabel('GMV')\n",
        "plt.grid(True)\n",
        "plt.tight_layout()\n",
        "plt.show()"
      ],
      "metadata": {
        "colab": {
          "base_uri": "https://localhost:8080/",
          "height": 507
        },
        "id": "ilDfvnv_ijJQ",
        "outputId": "0f49610c-2f11-4ad1-bb19-8176947e951f"
      },
      "execution_count": 7,
      "outputs": [
        {
          "output_type": "display_data",
          "data": {
            "text/plain": [
              "<Figure size 1000x500 with 1 Axes>"
            ],
            "image/png": "[encoded data removed]"
          },
          "metadata": {}
        }
      ]
    },
    {
      "cell_type": "markdown",
      "source": [
        "# Time Series Forecasting (ARIMA vs Moving Average)"
      ],
      "metadata": {
        "id": "u9mJ5So5imhP"
      }
    },
    {
      "cell_type": "code",
      "source": [
        "from statsmodels.tsa.arima.model import ARIMA\n",
        "from sklearn.metrics import mean_absolute_percentage_error\n",
        "\n",
        "# Time series harian jumlah order\n",
        "daily_orders = df_2017.groupby('Order Date')['Order ID'].nunique().asfreq('D', fill_value=0)\n",
        "train = daily_orders[:'2017-11-30']\n",
        "test = daily_orders['2017-12-01':]\n",
        "\n",
        "# Model 1: Moving Average\n",
        "ma_pred = pd.Series(train.rolling(30).mean().iloc[-1], index=test.index)\n",
        "\n",
        "# Model 2: ARIMA\n",
        "model = ARIMA(train, order=(1,1,1))\n",
        "result = model.fit()\n",
        "arima_pred = result.forecast(steps=len(test))\n",
        "\n",
        "# Evaluasi tanpa hari dengan 0 order\n",
        "test_nonzero = test[test > 0]\n",
        "ma_mape = mean_absolute_percentage_error(test_nonzero, ma_pred[test_nonzero.index])\n",
        "arima_mape = mean_absolute_percentage_error(test_nonzero, arima_pred[test_nonzero.index])\n",
        "\n",
        "print(f\"MAPE Moving Average (tanpa 0): {ma_mape:.4f}\")\n",
        "print(f\"MAPE ARIMA (tanpa 0): {arima_mape:.4f}\")"
      ],
      "metadata": {
        "colab": {
          "base_uri": "https://localhost:8080/"
        },
        "id": "m0i6odpyirCA",
        "outputId": "545a4f87-a7f3-466c-d79e-7743fda7586c"
      },
      "execution_count": 8,
      "outputs": [
        {
          "output_type": "stream",
          "name": "stdout",
          "text": [
            "MAPE Moving Average (tanpa 0): 1.0147\n",
            "MAPE ARIMA (tanpa 0): 0.9286\n"
          ]
        }
      ]
    },
    {
      "cell_type": "markdown",
      "source": [
        "# Insight Bisnis & Rekomendasi\n",
        "\n",
        "1. Penjualan meningkat tajam di bulan November → Manfaatkan momen seperti Black Friday.\n",
        "2. Produk high-end mendominasi revenue → Cocok untuk bundling premium.\n",
        "3. Kota besar seperti NYC & LA → targetkan promosi geografis.\n",
        "4. ARIMA (1,1,1) cocok untuk memprediksi jumlah order harian."
      ],
      "metadata": {
        "id": "1PY-XHcFiwGn"
      }
    },
    {
      "cell_type": "markdown",
      "source": [
        "* Link GitHub\n",
        "https://github.com/H7-DL/time-series-forecasting"
      ],
      "metadata": {
        "id": "yhglkyLMmIWx"
      }
    }
  ]
}